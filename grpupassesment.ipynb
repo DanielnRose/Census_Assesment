{
 "cells": [
  {
   "cell_type": "code",
   "execution_count": 2,
   "metadata": {},
   "outputs": [],
   "source": [
    "import requests\n",
    "import pandas as pd\n",
    "import json\n",
    "apikey = 'af4a7c461bcda111515e0ebeea5e4124fcc267d6'\n",
    "#test change"
   ]
  },
  {
   "cell_type": "code",
   "execution_count": 3,
   "metadata": {},
   "outputs": [
    {
     "name": "stdout",
     "output_type": "stream",
     "text": [
      "<Response [200]>\n"
     ]
    }
   ],
   "source": [
    "#get=GEO_ID,NAME,EMP,NATION,PAYANN,STATE,YEAR\n",
    "r = requests.get(f\"https://api.census.gov/data/2018/abscs?get=GEO_ID,NAME,RACE_GROUP&for=state:*\")\n",
    "print(r)\n",
    "r = r.json()"
   ]
  },
  {
   "cell_type": "code",
   "execution_count": 4,
   "metadata": {},
   "outputs": [],
   "source": [
    "#p = pd.read_json(r)\n",
    "\n",
    "r = json.dumps(r)\n"
   ]
  },
  {
   "cell_type": "code",
   "execution_count": 5,
   "metadata": {},
   "outputs": [],
   "source": [
    "p = pd.read_json(r)"
   ]
  },
  {
   "cell_type": "code",
   "execution_count": 7,
   "metadata": {},
   "outputs": [
    {
     "data": {
      "text/html": [
       "<div>\n",
       "<style scoped>\n",
       "    .dataframe tbody tr th:only-of-type {\n",
       "        vertical-align: middle;\n",
       "    }\n",
       "\n",
       "    .dataframe tbody tr th {\n",
       "        vertical-align: top;\n",
       "    }\n",
       "\n",
       "    .dataframe thead th {\n",
       "        text-align: right;\n",
       "    }\n",
       "</style>\n",
       "<table border=\"1\" class=\"dataframe\">\n",
       "  <thead>\n",
       "    <tr style=\"text-align: right;\">\n",
       "      <th></th>\n",
       "      <th>0</th>\n",
       "      <th>1</th>\n",
       "      <th>2</th>\n",
       "      <th>3</th>\n",
       "    </tr>\n",
       "  </thead>\n",
       "  <tbody>\n",
       "    <tr>\n",
       "      <th>0</th>\n",
       "      <td>GEO_ID</td>\n",
       "      <td>NAME</td>\n",
       "      <td>RACE_GROUP</td>\n",
       "      <td>state</td>\n",
       "    </tr>\n",
       "    <tr>\n",
       "      <th>1</th>\n",
       "      <td>0400000US28</td>\n",
       "      <td>Mississippi</td>\n",
       "      <td>92</td>\n",
       "      <td>28</td>\n",
       "    </tr>\n",
       "    <tr>\n",
       "      <th>2</th>\n",
       "      <td>0400000US28</td>\n",
       "      <td>Mississippi</td>\n",
       "      <td>50</td>\n",
       "      <td>28</td>\n",
       "    </tr>\n",
       "    <tr>\n",
       "      <th>3</th>\n",
       "      <td>0400000US28</td>\n",
       "      <td>Mississippi</td>\n",
       "      <td>60</td>\n",
       "      <td>28</td>\n",
       "    </tr>\n",
       "    <tr>\n",
       "      <th>4</th>\n",
       "      <td>0400000US28</td>\n",
       "      <td>Mississippi</td>\n",
       "      <td>30</td>\n",
       "      <td>28</td>\n",
       "    </tr>\n",
       "    <tr>\n",
       "      <th>5</th>\n",
       "      <td>0400000US28</td>\n",
       "      <td>Mississippi</td>\n",
       "      <td>70</td>\n",
       "      <td>28</td>\n",
       "    </tr>\n",
       "    <tr>\n",
       "      <th>6</th>\n",
       "      <td>0400000US28</td>\n",
       "      <td>Mississippi</td>\n",
       "      <td>90</td>\n",
       "      <td>28</td>\n",
       "    </tr>\n",
       "    <tr>\n",
       "      <th>7</th>\n",
       "      <td>0400000US28</td>\n",
       "      <td>Mississippi</td>\n",
       "      <td>00</td>\n",
       "      <td>28</td>\n",
       "    </tr>\n",
       "    <tr>\n",
       "      <th>8</th>\n",
       "      <td>0400000US28</td>\n",
       "      <td>Mississippi</td>\n",
       "      <td>40</td>\n",
       "      <td>28</td>\n",
       "    </tr>\n",
       "    <tr>\n",
       "      <th>9</th>\n",
       "      <td>0400000US28</td>\n",
       "      <td>Mississippi</td>\n",
       "      <td>91</td>\n",
       "      <td>28</td>\n",
       "    </tr>\n",
       "  </tbody>\n",
       "</table>\n",
       "</div>"
      ],
      "text/plain": [
       "             0            1           2      3\n",
       "0       GEO_ID         NAME  RACE_GROUP  state\n",
       "1  0400000US28  Mississippi          92     28\n",
       "2  0400000US28  Mississippi          50     28\n",
       "3  0400000US28  Mississippi          60     28\n",
       "4  0400000US28  Mississippi          30     28\n",
       "5  0400000US28  Mississippi          70     28\n",
       "6  0400000US28  Mississippi          90     28\n",
       "7  0400000US28  Mississippi          00     28\n",
       "8  0400000US28  Mississippi          40     28\n",
       "9  0400000US28  Mississippi          91     28"
      ]
     },
     "execution_count": 7,
     "metadata": {},
     "output_type": "execute_result"
    }
   ],
   "source": [
    "p.head(10)"
   ]
  },
  {
   "cell_type": "code",
   "execution_count": null,
   "metadata": {},
   "outputs": [],
   "source": []
  }
 ],
 "metadata": {
  "kernelspec": {
   "display_name": "base",
   "language": "python",
   "name": "python3"
  },
  "language_info": {
   "codemirror_mode": {
    "name": "ipython",
    "version": 3
   },
   "file_extension": ".py",
   "mimetype": "text/x-python",
   "name": "python",
   "nbconvert_exporter": "python",
   "pygments_lexer": "ipython3",
   "version": "3.9.13"
  },
  "orig_nbformat": 4,
  "vscode": {
   "interpreter": {
    "hash": "92d1c8824dd9ed58f2e2fe7d35df9188f2132fcf69312c535170a29d4fbf29a8"
   }
  }
 },
 "nbformat": 4,
 "nbformat_minor": 2
}
