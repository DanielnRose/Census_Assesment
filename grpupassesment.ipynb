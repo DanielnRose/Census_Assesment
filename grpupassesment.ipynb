{
 "cells": [
  {
   "cell_type": "code",
   "execution_count": 69,
   "metadata": {},
   "outputs": [],
   "source": [
    "import requests\n",
    "import pandas as pd\n",
    "import json\n",
    "apikey = 'af4a7c461bcda111515e0ebeea5e4124fcc267d6'\n"
   ]
  },
  {
   "cell_type": "code",
   "execution_count": 70,
   "metadata": {},
   "outputs": [
    {
     "name": "stdout",
     "output_type": "stream",
     "text": [
      "<Response [200]>\n"
     ]
    }
   ],
   "source": [
    "#get=GEO_ID,NAME,EMP,NATION,PAYANN,STATE,YEAR\n",
    "r = requests.get(f\"https://api.census.gov/data/2018/abscs?get=GEO_ID,NAME,RACE_GROUP&for=state:*\")\n",
    "print(r)\n",
    "r = r.json()"
   ]
  },
  {
   "cell_type": "code",
   "execution_count": 71,
   "metadata": {},
   "outputs": [],
   "source": [
    "#p = pd.read_json(r)\n",
    "\n",
    "r = json.dumps(r)\n"
   ]
  },
  {
   "cell_type": "code",
   "execution_count": 72,
   "metadata": {},
   "outputs": [],
   "source": [
    "p = pd.read_json(r)"
   ]
  },
  {
   "cell_type": "code",
   "execution_count": 73,
   "metadata": {},
   "outputs": [
    {
     "name": "stdout",
     "output_type": "stream",
     "text": [
      "               0            1           2      3\n",
      "0         GEO_ID         NAME  RACE_GROUP  state\n",
      "1    0400000US28  Mississippi          92     28\n",
      "2    0400000US28  Mississippi          50     28\n",
      "3    0400000US28  Mississippi          60     28\n",
      "4    0400000US28  Mississippi          30     28\n",
      "..           ...          ...         ...    ...\n",
      "453  0400000US27    Minnesota          90     27\n",
      "454  0400000US27    Minnesota          40     27\n",
      "455  0400000US27    Minnesota          91     27\n",
      "456  0400000US27    Minnesota          50     27\n",
      "457  0400000US27    Minnesota          92     27\n",
      "\n",
      "[458 rows x 4 columns]\n"
     ]
    }
   ],
   "source": [
    "print(p)"
   ]
  },
  {
   "cell_type": "code",
   "execution_count": null,
   "metadata": {},
   "outputs": [],
   "source": []
  }
 ],
 "metadata": {
  "kernelspec": {
   "display_name": "base",
   "language": "python",
   "name": "python3"
  },
  "language_info": {
   "codemirror_mode": {
    "name": "ipython",
    "version": 3
   },
   "file_extension": ".py",
   "mimetype": "text/x-python",
   "name": "python",
   "nbconvert_exporter": "python",
   "pygments_lexer": "ipython3",
   "version": "3.9.13 (main, Aug 25 2022, 23:51:50) [MSC v.1916 64 bit (AMD64)]"
  },
  "orig_nbformat": 4,
  "vscode": {
   "interpreter": {
    "hash": "92d1c8824dd9ed58f2e2fe7d35df9188f2132fcf69312c535170a29d4fbf29a8"
   }
  }
 },
 "nbformat": 4,
 "nbformat_minor": 2
}
